{
 "cells": [
  {
   "cell_type": "markdown",
   "metadata": {},
   "source": [
    "# <center> <b>Age Prediction"
   ]
  },
  {
   "cell_type": "markdown",
   "metadata": {},
   "source": [
    "## <b>Introduction"
   ]
  },
  {
   "cell_type": "markdown",
   "metadata": {},
   "source": [
    "Age prediction is a popular problem in computer vision under the umbrella of pattern recognition. As a technical perspective, this problem is widely used to test new computer vision algorithms. There are plenty of new models developed in this recent years according to the increase in high computation power, and two main benchmarks used to evaluate how much they can defeat the previous models are accuracy and time consumption.<br>\n",
    "\n",
    "For application, age prediction is also beneficial to many areas when forgetting about privacy. An example is a business such as a supermarket. The manager will be able to know how customers in each age group walk through a shelf-stacker differently. The information can be used to rearrange goods for more appropriate with the target group and better income.<br>\n",
    "\n",
    "Two deep learning models, ResNet (Residual Networks) and VGG (Visual Geometry Group), will be used in this study for age prediction. ImageNet and VGGface are used as the model weight, respectively. These model performances will be compared together in the condition that all layers are frozen. The model which provides the best result will be tested further by releasing weight for more layers. Finally, this process will end when the model performance drops along with adding more trainable layers.<br>\n",
    "\n",
    "The datasorce used in this study is from https://talhassner.github.io/home/projects/Adience/Adience-data.html."
   ]
  },
  {
   "cell_type": "markdown",
   "metadata": {},
   "source": [
    "## <b> Methodology"
   ]
  },
  {
   "cell_type": "markdown",
   "metadata": {},
   "source": [
    "To do an age prediction, there are 6 main processes as below; <br>\n",
    "1. Prepare working environment\n",
    "2. Load data (in this case, the data is images)\n",
    "3. Preprocess data\n",
    "4. Construct and test prediction models\n",
    "5. Evaluate the model performance\n",
    "6. Conclude and discuss the result"
   ]
  },
  {
   "cell_type": "markdown",
   "metadata": {},
   "source": [
    "## <b>Get Start!"
   ]
  },
  {
   "cell_type": "markdown",
   "metadata": {},
   "source": [
    "### <B> 1. Prepare working environment"
   ]
  },
  {
   "cell_type": "markdown",
   "metadata": {},
   "source": [
    "Install new libraries"
   ]
  },
  {
   "cell_type": "code",
   "execution_count": null,
   "metadata": {},
   "outputs": [],
   "source": [
    "!pip install -q keras_tqdm\n",
    "\n",
    "# clone library from github and check if it is dowloaded successfully\n",
    "!sudo pip install git+https://github.com/rcmalli/keras-vggface.git\n",
    "!pip show keras-vggface"
   ]
  },
  {
   "cell_type": "markdown",
   "metadata": {},
   "source": [
    "Load data through console"
   ]
  },
  {
   "cell_type": "code",
   "execution_count": null,
   "metadata": {},
   "outputs": [],
   "source": [
    "# download and extract aligned.tar using console\n",
    "wget --user adiencedb --password adience http://www.cslab.openu.ac.il/download/adiencedb/AdienceBenchmarkOfUnfilteredFacesForGenderAndAgeClassification/aligned.tar.gz\n",
    "\n",
    "# extract field\n",
    "tar xvzf aligned.tar.gz"
   ]
  },
  {
   "cell_type": "markdown",
   "metadata": {},
   "source": [
    "Import all used libraries"
   ]
  },
  {
   "cell_type": "code",
   "execution_count": 226,
   "metadata": {},
   "outputs": [],
   "source": [
    "# for loading image\n",
    "from skimage.io import imread\n",
    "from skimage.transform import resize\n",
    "import numpy as np\n",
    "import pandas as pd\n",
    "import os\n",
    "from collections import OrderedDict\n",
    "\n",
    "# for constructinf and testing deeplearning model\n",
    "import tensorflow as tf\n",
    "import keras\n",
    "from keras import backend as K\n",
    "from keras import initializers\n",
    "from keras_tqdm import TQDMNotebookCallback\n",
    "from keras.preprocessing.image import ImageDataGenerator\n",
    "from keras.models import Sequential, Model, load_model\n",
    "from keras.layers import *\n",
    "from keras.applications.resnet50 import ResNet50\n",
    "from keras_vggface.vggface import VGGFace\n",
    "from sklearn.externals import joblib\n",
    "from sklearn.model_selection import train_test_split\n",
    "from sklearn.utils.class_weight import compute_class_weight\n",
    "from PIL import Image\n",
    "import random as rn\n",
    "\n",
    "# model evaluation and visualization\n",
    "import model_evaluation as model_eval # udf\n",
    "from sklearn.metrics import f1_score, balanced_accuracy_score\n",
    "from matplotlib import pyplot as plt\n",
    "import seaborn as sns\n",
    "import cv2"
   ]
  },
  {
   "cell_type": "code",
   "execution_count": 199,
   "metadata": {},
   "outputs": [
    {
     "data": {
      "text/plain": [
       "'/device:GPU:0'"
      ]
     },
     "execution_count": 199,
     "metadata": {},
     "output_type": "execute_result"
    }
   ],
   "source": [
    "# check if tensorflow runs on GPU\n",
    "tf.test.gpu_device_name() #0 means use 1 unit of GPU"
   ]
  },
  {
   "cell_type": "code",
   "execution_count": 200,
   "metadata": {},
   "outputs": [],
   "source": [
    "# Fix random seed for reproducibility\n",
    "seed = 27\n",
    "\n",
    "# Setting the seed for numpy-generated random numbers\n",
    "np.random.seed(seed)\n",
    "\n",
    "# Setting the seed for python random numbers\n",
    "rn.seed(seed)\n",
    "\n",
    "# Setting the graph-level random seed\n",
    "tf.set_random_seed(seed)\n",
    "\n",
    "#Force Tensorflow to use a single thread\n",
    "session_conf = tf.ConfigProto(intra_op_parallelism_threads=1, inter_op_parallelism_threads=1)\n",
    "\n",
    "#Force Tensorflow to use a single thread\n",
    "sess = tf.Session(graph=tf.get_default_graph(), config=session_conf)\n",
    "K.set_session(sess)"
   ]
  },
  {
   "cell_type": "markdown",
   "metadata": {},
   "source": [
    "### <B>2. Load data"
   ]
  },
  {
   "cell_type": "markdown",
   "metadata": {},
   "source": [
    "This study loads images using batch approach. Besides, file paths are separated into train/ test/ validation set instead of raw images with the objective to reduce memory consumption."
   ]
  },
  {
   "cell_type": "code",
   "execution_count": 201,
   "metadata": {},
   "outputs": [],
   "source": [
    "# udf to load image index\n",
    "data_path = 'data_source/'\n",
    "\n",
    "def importdata(filename):\n",
    "    fold = pd.read_csv(data_path + filename + '.txt', sep = '\\t') #seperator as tab\n",
    "    fold['path'] = fold.apply(lambda x: data_path + 'aligned/' + x['user_id'] + '/landmark_aligned_face.{}.{}'.format(x['face_id'], x['original_image']), axis=1)\n",
    "        # The structure of a file name in aligned is as below;\n",
    "            # user_id -- the no to identify face group (similar faces are groedas 1 user id although they are from different people) and it is used as the subfolder name\n",
    "            # landmark_aligned_face. -- the prefix of each file in the subfolder\n",
    "            # face_id. -- the no to identify a particular user (a person has 1 face id)\n",
    "            # original_image -- the id of each image\n",
    "    return fold"
   ]
  },
  {
   "cell_type": "code",
   "execution_count": 202,
   "metadata": {},
   "outputs": [],
   "source": [
    "# load image index\n",
    "fold_list = []\n",
    "\n",
    "for i in np.arange(0,5):\n",
    "    fold_list.append('fold_'+str(i)+'_data')\n",
    "    if i == 0:\n",
    "        fold = importdata('fold_'+str(i)+'_data')\n",
    "    else:\n",
    "        _ = importdata('fold_'+str(i)+'_data')\n",
    "        fold = fold.append(_, ignore_index=True).reset_index(drop=True)"
   ]
  },
  {
   "cell_type": "code",
   "execution_count": 203,
   "metadata": {},
   "outputs": [
    {
     "data": {
      "text/html": [
       "<div>\n",
       "<style scoped>\n",
       "    .dataframe tbody tr th:only-of-type {\n",
       "        vertical-align: middle;\n",
       "    }\n",
       "\n",
       "    .dataframe tbody tr th {\n",
       "        vertical-align: top;\n",
       "    }\n",
       "\n",
       "    .dataframe thead th {\n",
       "        text-align: right;\n",
       "    }\n",
       "</style>\n",
       "<table border=\"1\" class=\"dataframe\">\n",
       "  <thead>\n",
       "    <tr style=\"text-align: right;\">\n",
       "      <th></th>\n",
       "      <th>user_id</th>\n",
       "      <th>original_image</th>\n",
       "      <th>face_id</th>\n",
       "      <th>age</th>\n",
       "      <th>gender</th>\n",
       "      <th>x</th>\n",
       "      <th>y</th>\n",
       "      <th>dx</th>\n",
       "      <th>dy</th>\n",
       "      <th>tilt_ang</th>\n",
       "      <th>fiducial_yaw_angle</th>\n",
       "      <th>fiducial_score</th>\n",
       "      <th>path</th>\n",
       "    </tr>\n",
       "  </thead>\n",
       "  <tbody>\n",
       "    <tr>\n",
       "      <th>0</th>\n",
       "      <td>30601258@N03</td>\n",
       "      <td>10399646885_67c7d20df9_o.jpg</td>\n",
       "      <td>1</td>\n",
       "      <td>(25, 32)</td>\n",
       "      <td>f</td>\n",
       "      <td>0</td>\n",
       "      <td>414</td>\n",
       "      <td>1086</td>\n",
       "      <td>1383</td>\n",
       "      <td>-115</td>\n",
       "      <td>30</td>\n",
       "      <td>17</td>\n",
       "      <td>data_source/aligned/30601258@N03/landmark_alig...</td>\n",
       "    </tr>\n",
       "    <tr>\n",
       "      <th>1</th>\n",
       "      <td>30601258@N03</td>\n",
       "      <td>10424815813_e94629b1ec_o.jpg</td>\n",
       "      <td>2</td>\n",
       "      <td>(25, 32)</td>\n",
       "      <td>m</td>\n",
       "      <td>301</td>\n",
       "      <td>105</td>\n",
       "      <td>640</td>\n",
       "      <td>641</td>\n",
       "      <td>0</td>\n",
       "      <td>0</td>\n",
       "      <td>94</td>\n",
       "      <td>data_source/aligned/30601258@N03/landmark_alig...</td>\n",
       "    </tr>\n",
       "  </tbody>\n",
       "</table>\n",
       "</div>"
      ],
      "text/plain": [
       "        user_id                original_image  face_id       age gender    x  \\\n",
       "0  30601258@N03  10399646885_67c7d20df9_o.jpg        1  (25, 32)      f    0   \n",
       "1  30601258@N03  10424815813_e94629b1ec_o.jpg        2  (25, 32)      m  301   \n",
       "\n",
       "     y    dx    dy  tilt_ang  fiducial_yaw_angle  fiducial_score  \\\n",
       "0  414  1086  1383      -115                  30              17   \n",
       "1  105   640   641         0                   0              94   \n",
       "\n",
       "                                                path  \n",
       "0  data_source/aligned/30601258@N03/landmark_alig...  \n",
       "1  data_source/aligned/30601258@N03/landmark_alig...  "
      ]
     },
     "execution_count": 203,
     "metadata": {},
     "output_type": "execute_result"
    }
   ],
   "source": [
    "# explore the loaded image index\n",
    "fold.head(2)"
   ]
  },
  {
   "cell_type": "markdown",
   "metadata": {},
   "source": [
    "> The image index from fold0 (first fold) is loaded successfully."
   ]
  },
  {
   "cell_type": "code",
   "execution_count": 204,
   "metadata": {},
   "outputs": [
    {
     "data": {
      "text/html": [
       "<div>\n",
       "<style scoped>\n",
       "    .dataframe tbody tr th:only-of-type {\n",
       "        vertical-align: middle;\n",
       "    }\n",
       "\n",
       "    .dataframe tbody tr th {\n",
       "        vertical-align: top;\n",
       "    }\n",
       "\n",
       "    .dataframe thead th {\n",
       "        text-align: right;\n",
       "    }\n",
       "</style>\n",
       "<table border=\"1\" class=\"dataframe\">\n",
       "  <thead>\n",
       "    <tr style=\"text-align: right;\">\n",
       "      <th></th>\n",
       "      <th>user_id</th>\n",
       "      <th>original_image</th>\n",
       "      <th>face_id</th>\n",
       "      <th>age</th>\n",
       "      <th>gender</th>\n",
       "      <th>x</th>\n",
       "      <th>y</th>\n",
       "      <th>dx</th>\n",
       "      <th>dy</th>\n",
       "      <th>tilt_ang</th>\n",
       "      <th>fiducial_yaw_angle</th>\n",
       "      <th>fiducial_score</th>\n",
       "      <th>path</th>\n",
       "    </tr>\n",
       "  </thead>\n",
       "  <tbody>\n",
       "    <tr>\n",
       "      <th>19368</th>\n",
       "      <td>7153718@N04</td>\n",
       "      <td>11598145163_733cb99713_o.jpg</td>\n",
       "      <td>2282</td>\n",
       "      <td>None</td>\n",
       "      <td>NaN</td>\n",
       "      <td>1027</td>\n",
       "      <td>946</td>\n",
       "      <td>408</td>\n",
       "      <td>408</td>\n",
       "      <td>-85</td>\n",
       "      <td>0</td>\n",
       "      <td>49</td>\n",
       "      <td>data_source/aligned/7153718@N04/landmark_align...</td>\n",
       "    </tr>\n",
       "    <tr>\n",
       "      <th>19369</th>\n",
       "      <td>7153718@N04</td>\n",
       "      <td>11598013005_240c2bc9c7_o.jpg</td>\n",
       "      <td>2282</td>\n",
       "      <td>None</td>\n",
       "      <td>NaN</td>\n",
       "      <td>498</td>\n",
       "      <td>643</td>\n",
       "      <td>772</td>\n",
       "      <td>772</td>\n",
       "      <td>-80</td>\n",
       "      <td>0</td>\n",
       "      <td>111</td>\n",
       "      <td>data_source/aligned/7153718@N04/landmark_align...</td>\n",
       "    </tr>\n",
       "  </tbody>\n",
       "</table>\n",
       "</div>"
      ],
      "text/plain": [
       "           user_id                original_image  face_id   age gender     x  \\\n",
       "19368  7153718@N04  11598145163_733cb99713_o.jpg     2282  None    NaN  1027   \n",
       "19369  7153718@N04  11598013005_240c2bc9c7_o.jpg     2282  None    NaN   498   \n",
       "\n",
       "         y   dx   dy  tilt_ang  fiducial_yaw_angle  fiducial_score  \\\n",
       "19368  946  408  408       -85                   0              49   \n",
       "19369  643  772  772       -80                   0             111   \n",
       "\n",
       "                                                    path  \n",
       "19368  data_source/aligned/7153718@N04/landmark_align...  \n",
       "19369  data_source/aligned/7153718@N04/landmark_align...  "
      ]
     },
     "execution_count": 204,
     "metadata": {},
     "output_type": "execute_result"
    }
   ],
   "source": [
    "# explore the loaded image index\n",
    "fold.tail(2)"
   ]
  },
  {
   "cell_type": "markdown",
   "metadata": {},
   "source": [
    "> The image index from fold4 (last fold) is loaded successfully."
   ]
  },
  {
   "cell_type": "markdown",
   "metadata": {},
   "source": [
    "### <B>3. Preprocess data"
   ]
  },
  {
   "cell_type": "markdown",
   "metadata": {},
   "source": [
    "This step includes 2 main topics. They are data cleansing and train-test-validation splitting.<br>\n",
    "\n",
    "The phrase \"garbage in, garbage out\" is a classic phrase in the field of data analytics. Poor data quality will confuse the model, and the result of such information cannot solve the problem in the real setting. Therefore, data cleansing is a vital task before doing further steps, and model performance usually depends on how well the data quality is.\n",
    "\n",
    "Train-set-validation splitting is to separate data into 3 groups for particular objectives. They are to construct a model, tune the model hyperparameters, and evaluate the model performance."
   ]
  },
  {
   "cell_type": "markdown",
   "metadata": {},
   "source": [
    "- <B>Clean data"
   ]
  },
  {
   "cell_type": "markdown",
   "metadata": {},
   "source": [
    "First and foremost, data profiling are explored"
   ]
  },
  {
   "cell_type": "code",
   "execution_count": 205,
   "metadata": {},
   "outputs": [
    {
     "name": "stdout",
     "output_type": "stream",
     "text": [
      "total images: 19370\n",
      "total images which do not contain \"age\": 748\n",
      "total images with complete data: 18622\n"
     ]
    },
    {
     "data": {
      "text/plain": [
       "['fold_0_data', 'fold_1_data', 'fold_2_data', 'fold_3_data', 'fold_4_data']"
      ]
     },
     "execution_count": 205,
     "metadata": {},
     "output_type": "execute_result"
    }
   ],
   "source": [
    "# explore data\n",
    "print('total images: {}'.format(len(fold)))\n",
    "print('total images which do not contain \"age\": {}'.format(len(fold.loc[fold.age=='None',:])))\n",
    "print('total images with complete data: {}'.format(len(fold.loc[fold.age!='None',:])))\n",
    "fold_list"
   ]
  },
  {
   "cell_type": "markdown",
   "metadata": {},
   "source": [
    "> The data are inlcuded from 5 folds (0 to 4) consisting of 19,370 cases. Unfortunately, a total of 748 images does not contain target class and they are excluded during model development phrase."
   ]
  },
  {
   "cell_type": "markdown",
   "metadata": {},
   "source": [
    "The data without labels is useless during model development, so they are removed."
   ]
  },
  {
   "cell_type": "code",
   "execution_count": 206,
   "metadata": {},
   "outputs": [
    {
     "name": "stdout",
     "output_type": "stream",
     "text": [
      "total images left: 18622\n"
     ]
    }
   ],
   "source": [
    "# remove index which the images are not labeled age\n",
    "fold_complete = fold.loc[fold.age!='None',:].copy()\n",
    "print('total images left: {}'. format(len(fold_complete)))"
   ]
  },
  {
   "cell_type": "markdown",
   "metadata": {},
   "source": [
    "Then the labels are explored to see their possible values."
   ]
  },
  {
   "cell_type": "code",
   "execution_count": 207,
   "metadata": {},
   "outputs": [
    {
     "data": {
      "text/plain": [
       "{'(0, 2)',\n",
       " '(15, 20)',\n",
       " '(25, 32)',\n",
       " '(27, 32)',\n",
       " '(38, 42)',\n",
       " '(38, 43)',\n",
       " '(38, 48)',\n",
       " '(4, 6)',\n",
       " '(48, 53)',\n",
       " '(60, 100)',\n",
       " '(8, 12)',\n",
       " '(8, 23)',\n",
       " '13',\n",
       " '2',\n",
       " '22',\n",
       " '23',\n",
       " '29',\n",
       " '3',\n",
       " '32',\n",
       " '34',\n",
       " '35',\n",
       " '36',\n",
       " '42',\n",
       " '45',\n",
       " '46',\n",
       " '55',\n",
       " '56',\n",
       " '57',\n",
       " '58'}"
      ]
     },
     "execution_count": 207,
     "metadata": {},
     "output_type": "execute_result"
    }
   ],
   "source": [
    "# find the possible labels\n",
    "set(fold_complete['age'])"
   ]
  },
  {
   "cell_type": "markdown",
   "metadata": {},
   "source": [
    "> The result of this step presents that the target class is inconsistency. This study designs to solve this issue by regrouping the label. However, another solution is to remove them if the inconsistency classes have a small number."
   ]
  },
  {
   "cell_type": "markdown",
   "metadata": {},
   "source": [
    "<i>Regroup target classes"
   ]
  },
  {
   "cell_type": "code",
   "execution_count": 208,
   "metadata": {},
   "outputs": [
    {
     "data": {
      "text/plain": [
       "{'(00-06)', '(07-23)', '(24-32)', '(33-54)', '(55-100)'}"
      ]
     },
     "execution_count": 208,
     "metadata": {},
     "output_type": "execute_result"
    }
   ],
   "source": [
    "# relabel age group\n",
    "dict_agegr = {'(0, 2)': '(00-06)',\n",
    "              '2': '(00-06)',\n",
    "              '3': '(00-06)',\n",
    "              '(4, 6)': '(00-06)',\n",
    "              '(8, 12)': '(07-23)',\n",
    "              '13': '(07-23)',\n",
    "              '(15, 20)': '(07-23)',\n",
    "              '22': '(07-23)',\n",
    "              '23': '(07-23)',\n",
    "              '(8, 23)': '(07-23)',\n",
    "              '(25, 32)': '(24-32)',\n",
    "              '29': '(24-32)',\n",
    "              '(27, 32)': '(24-32)',\n",
    "              '32': '(24-32)',\n",
    "              '34': '(33-54)',\n",
    "              '35': '(33-54)',\n",
    "              '36': '(33-54)',\n",
    "              '(38, 42)': '(33-54)',\n",
    "              '(38, 43)': '(33-54)',\n",
    "              '(38, 48)': '(33-54)',\n",
    "              '42': '(33-54)',\n",
    "              '(48, 53)': '(33-54)',\n",
    "              '45': '(33-54)',\n",
    "              '46': '(33-54)',\n",
    "              '55': '(55-100)',\n",
    "              '56': '(55-100)',\n",
    "              '57': '(55-100)',\n",
    "              '58': '(55-100)',\n",
    "              '(60, 100)': '(55-100)'}\n",
    "\n",
    "fold_complete['age_gr'] = fold_complete['age'].copy()\n",
    "fold_complete = fold_complete.replace({'age_gr': dict_agegr})\n",
    "\n",
    "# explore the possible labels\n",
    "set(fold_complete['age_gr'])"
   ]
  },
  {
   "cell_type": "markdown",
   "metadata": {},
   "source": [
    "> Finally, there are 5 target classes included in this study."
   ]
  },
  {
   "cell_type": "code",
   "execution_count": 209,
   "metadata": {},
   "outputs": [
    {
     "data": {
      "text/html": [
       "<div>\n",
       "<style scoped>\n",
       "    .dataframe tbody tr th:only-of-type {\n",
       "        vertical-align: middle;\n",
       "    }\n",
       "\n",
       "    .dataframe tbody tr th {\n",
       "        vertical-align: top;\n",
       "    }\n",
       "\n",
       "    .dataframe thead th {\n",
       "        text-align: right;\n",
       "    }\n",
       "</style>\n",
       "<table border=\"1\" class=\"dataframe\">\n",
       "  <thead>\n",
       "    <tr style=\"text-align: right;\">\n",
       "      <th></th>\n",
       "      <th>age</th>\n",
       "      <th>age_gr</th>\n",
       "    </tr>\n",
       "  </thead>\n",
       "  <tbody>\n",
       "  </tbody>\n",
       "</table>\n",
       "</div>"
      ],
      "text/plain": [
       "Empty DataFrame\n",
       "Columns: [age, age_gr]\n",
       "Index: []"
      ]
     },
     "execution_count": 209,
     "metadata": {},
     "output_type": "execute_result"
    }
   ],
   "source": [
    "# check if there is any 'None' age\n",
    "fold_complete.loc[fold_complete.age_gr=='None', ['age', 'age_gr']]"
   ]
  },
  {
   "cell_type": "markdown",
   "metadata": {},
   "source": [
    "> There is not any unlabel case left."
   ]
  },
  {
   "cell_type": "code",
   "execution_count": 210,
   "metadata": {},
   "outputs": [
    {
     "name": "stdout",
     "output_type": "stream",
     "text": [
      "00-06: 4649\n",
      "07-23: 4180\n",
      "24-32: 5095\n",
      "33-54: 3719\n",
      "56-100: 979\n"
     ]
    }
   ],
   "source": [
    "print('00-06: {}'.format(len(fold_complete.loc[fold_complete.age_gr=='(00-06)',])))\n",
    "print('07-23: {}'.format(len(fold_complete.loc[fold_complete.age_gr=='(07-23)',])))\n",
    "print('24-32: {}'.format(len(fold_complete.loc[fold_complete.age_gr=='(24-32)',])))\n",
    "print('33-54: {}'.format(len(fold_complete.loc[fold_complete.age_gr=='(33-54)',])))\n",
    "print('56-100: {}'.format(len(fold_complete.loc[fold_complete.age_gr=='(55-100)',])))"
   ]
  },
  {
   "cell_type": "markdown",
   "metadata": {},
   "source": [
    "> The result from regrouping shows that the number member in each group is different, especially for the group of 56 to 100 years old. This characteristic might affect the model performance in this age group prediction."
   ]
  },
  {
   "cell_type": "markdown",
   "metadata": {},
   "source": [
    "<i>Encode new target class"
   ]
  },
  {
   "cell_type": "markdown",
   "metadata": {},
   "source": [
    "This step is done according to the model requirement. Both models, ResNet50 and VGG16, need input to be in numerical form (string is unacceptable)."
   ]
  },
  {
   "cell_type": "code",
   "execution_count": 211,
   "metadata": {},
   "outputs": [
    {
     "data": {
      "text/plain": [
       "{'(00-06)': 0, '(07-23)': 1, '(24-32)': 2, '(33-54)': 3, '(55-100)': 4}"
      ]
     },
     "execution_count": 211,
     "metadata": {},
     "output_type": "execute_result"
    }
   ],
   "source": [
    "dict_agegr2 = {'(00-06)': 0,\n",
    "               '(07-23)': 1,\n",
    "               '(24-32)': 2,\n",
    "               '(33-54)': 3,\n",
    "               '(55-100)': 4}\n",
    "dict_agegr2"
   ]
  },
  {
   "cell_type": "code",
   "execution_count": 212,
   "metadata": {},
   "outputs": [
    {
     "data": {
      "text/html": [
       "<div>\n",
       "<style scoped>\n",
       "    .dataframe tbody tr th:only-of-type {\n",
       "        vertical-align: middle;\n",
       "    }\n",
       "\n",
       "    .dataframe tbody tr th {\n",
       "        vertical-align: top;\n",
       "    }\n",
       "\n",
       "    .dataframe thead th {\n",
       "        text-align: right;\n",
       "    }\n",
       "</style>\n",
       "<table border=\"1\" class=\"dataframe\">\n",
       "  <thead>\n",
       "    <tr style=\"text-align: right;\">\n",
       "      <th></th>\n",
       "      <th>age</th>\n",
       "      <th>age_gr</th>\n",
       "    </tr>\n",
       "  </thead>\n",
       "  <tbody>\n",
       "    <tr>\n",
       "      <th>0</th>\n",
       "      <td>(25, 32)</td>\n",
       "      <td>2</td>\n",
       "    </tr>\n",
       "    <tr>\n",
       "      <th>1</th>\n",
       "      <td>(25, 32)</td>\n",
       "      <td>2</td>\n",
       "    </tr>\n",
       "    <tr>\n",
       "      <th>2</th>\n",
       "      <td>(25, 32)</td>\n",
       "      <td>2</td>\n",
       "    </tr>\n",
       "    <tr>\n",
       "      <th>3</th>\n",
       "      <td>(25, 32)</td>\n",
       "      <td>2</td>\n",
       "    </tr>\n",
       "    <tr>\n",
       "      <th>4</th>\n",
       "      <td>(25, 32)</td>\n",
       "      <td>2</td>\n",
       "    </tr>\n",
       "  </tbody>\n",
       "</table>\n",
       "</div>"
      ],
      "text/plain": [
       "        age  age_gr\n",
       "0  (25, 32)       2\n",
       "1  (25, 32)       2\n",
       "2  (25, 32)       2\n",
       "3  (25, 32)       2\n",
       "4  (25, 32)       2"
      ]
     },
     "execution_count": 212,
     "metadata": {},
     "output_type": "execute_result"
    }
   ],
   "source": [
    "# explore encoding result\n",
    "fold_complete = fold_complete.replace({'age_gr': dict_agegr2})\n",
    "fold_complete.loc[:, ['age', 'age_gr']].head(5)"
   ]
  },
  {
   "cell_type": "code",
   "execution_count": 213,
   "metadata": {},
   "outputs": [
    {
     "data": {
      "text/plain": [
       "{0, 1, 2, 3, 4}"
      ]
     },
     "execution_count": 213,
     "metadata": {},
     "output_type": "execute_result"
    }
   ],
   "source": [
    "# check the final result\n",
    "set(fold_complete['age_gr'])"
   ]
  },
  {
   "cell_type": "markdown",
   "metadata": {},
   "source": [
    "- <b> Split data into train/ test/ and validation set"
   ]
  },
  {
   "cell_type": "markdown",
   "metadata": {},
   "source": [
    "Firstly, file path and label class are extracted from the image index."
   ]
  },
  {
   "cell_type": "code",
   "execution_count": 214,
   "metadata": {},
   "outputs": [],
   "source": [
    "# keep only filename and y as list\n",
    "filenames = list(fold_complete['path'])\n",
    "labels = list(fold_complete['age_gr'])"
   ]
  },
  {
   "cell_type": "markdown",
   "metadata": {},
   "source": [
    "Typically this step will split the data directly; however, the study uses data path instead. The data will be loaded automatically to the model during model development."
   ]
  },
  {
   "cell_type": "code",
   "execution_count": 215,
   "metadata": {},
   "outputs": [],
   "source": [
    "# udf for spliting data\n",
    "def split(X, y, test_size):\n",
    "    Xtrn, Xtst, ytrn, ytst = train_test_split(X, y, test_size = test_size, random_state = seed, stratify = y)\n",
    "    return Xtrn, Xtst, ytrn, ytst\n",
    "\n",
    "# split data\n",
    "Xtrn, Xtstval, ytrn, ytstval = split(filenames.copy(), labels.copy(), test_size = 0.3) # file path and label for training set\n",
    "Xtst, Xval, ytst, yval = split(Xtstval, ytstval, test_size = 0.5) # file path and label for test and validation set"
   ]
  },
  {
   "cell_type": "markdown",
   "metadata": {},
   "source": [
    "Batch loading is the method used to feed data to the model in this study according to memory constraint."
   ]
  },
  {
   "cell_type": "code",
   "execution_count": 216,
   "metadata": {},
   "outputs": [],
   "source": [
    "# create new class to import data as batch\n",
    "# inherit from the Sequence class\n",
    "class Custom_Generator(keras.utils.Sequence):   \n",
    "    \n",
    "    def __init__(self, image_filenames, labels, batch_size):\n",
    "        self.image_filenames = image_filenames\n",
    "        self.labels = labels\n",
    "        self.batch_size = batch_size\n",
    "        \n",
    "    # find total number of batches -- dunder methods\n",
    "    def __len__(self):\n",
    "        return (np.ceil(len(self.image_filenames) / float(self.batch_size))).astype(np.int)   \n",
    "    \n",
    "    # gather images for each batch -- dunder methods\n",
    "    def __getitem__(self, idx):        \n",
    "        batch_x = self.image_filenames[idx*self.batch_size:(idx+1)*self.batch_size] # load x by batch number\n",
    "        batch_y = self.labels[idx*self.batch_size:(idx+1)*self.batch_size] # load y by batch number  \n",
    "        \n",
    "        # augment images\n",
    "        im_aug = ImageDataGenerator(rotation_range=6, width_shift_range=0.1, height_shift_range=0.1,\n",
    "                                    horizontal_flip=True, zoom_range=0.1)\n",
    "        \n",
    "        # load images\n",
    "        # resize images - 1=color/ 0=grayscale/ -1=unchanged\n",
    "        # augment images\n",
    "        datagen = np.array([im_aug.random_transform(cv2.resize(cv2.imread(file_name, 1), (224, 224),\n",
    "                                        interpolation = cv2.INTER_AREA)) for file_name in batch_x], dtype='float32')\n",
    "        \n",
    "        # scale images 0-1 - divided by 255\n",
    "        return datagen/255.0, np.array(batch_y)"
   ]
  },
  {
   "cell_type": "markdown",
   "metadata": {},
   "source": [
    "Finally, the number of batch size is set and 3 data sets which inlcude batch loading pipline are prepared."
   ]
  },
  {
   "cell_type": "code",
   "execution_count": 217,
   "metadata": {},
   "outputs": [
    {
     "data": {
      "text/plain": [
       "dtype('float32')"
      ]
     },
     "execution_count": 217,
     "metadata": {},
     "output_type": "execute_result"
    }
   ],
   "source": [
    "# load each data set as batch\n",
    "batch_size = 64\n",
    "\n",
    "training_batch_generator = Custom_Generator(Xtrn, ytrn, batch_size)\n",
    "testing_batch_generator = Custom_Generator(Xtst, ytst, batch_size)\n",
    "validation_batch_generator = Custom_Generator(Xval, yval, batch_size)\n",
    "\n",
    "# check model input type\n",
    "testing_batch_generator.__getitem__(1)[0][0][0][0].dtype"
   ]
  },
  {
   "cell_type": "markdown",
   "metadata": {},
   "source": [
    "#### <B> 4. Contruct and test prediction models"
   ]
  },
  {
   "cell_type": "markdown",
   "metadata": {},
   "source": [
    "This study objective is to predict age from images. There are 2 deep learning models used together with 3 pre-trained-weight, ResNet50 and VGG16."
   ]
  },
  {
   "cell_type": "markdown",
   "metadata": {},
   "source": [
    "#### <b> 4.1) Experiment model with original weight"
   ]
  },
  {
   "cell_type": "markdown",
   "metadata": {},
   "source": [
    "#### <b>I) ResNet50"
   ]
  },
  {
   "cell_type": "markdown",
   "metadata": {},
   "source": [
    "ResNet is developed with the idea to reduce vanising gradient by shortcut connection. This techique is called 'residual block' and the model is claimed to not decline performace over the layer depth.<br>"
   ]
  },
  {
   "cell_type": "markdown",
   "metadata": {},
   "source": [
    "<i>ResNet50 Structure:<br>\n",
    " ![](./fig/0_ResNet50.PNG)<br>\n",
    "Source: https://towardsdatascience.com/understanding-and-coding-a-resnet-in-keras-446d7ff84d33</i>"
   ]
  },
  {
   "cell_type": "markdown",
   "metadata": {},
   "source": [
    "<i>Residual Block:<br>\n",
    "![](./fig/1_Residual_block.PNG)<br>\n",
    "Source: https://towardsdatascience.com/an-overview-of-resnet-and-its-variants-5281e2f56035</i>"
   ]
  },
  {
   "cell_type": "markdown",
   "metadata": {},
   "source": [
    "In the case of imagenet, it is a large image database which its objective is to use in object recognition research. There are more than 14 million images included with a total of 20,000 categories."
   ]
  },
  {
   "cell_type": "markdown",
   "metadata": {},
   "source": [
    "<i>Examples from ImageNet:<br>\n",
    "![](./fig/2_Examples_ImageNet.PNG)<br>\n",
    "Source: Chen, Chen & Ren, Yuzhuo & Jay Kuo, C.-C. (2016). Global-Attributes Assisted Outdoor Scene Geometric Labeling. 10.1007/978-981-10-0631-9_5. </i>"
   ]
  },
  {
   "cell_type": "markdown",
   "metadata": {},
   "source": [
    "ResNet50 structure is loaded together with pre-train-weight from \"imagenet\", then it is used as a basemodel."
   ]
  },
  {
   "cell_type": "code",
   "execution_count": null,
   "metadata": {},
   "outputs": [],
   "source": [
    "# load model struture with pre-train-weight\n",
    "    # include_top = Fasle --> not include final pooling and dense\n",
    "resnet_model = ResNet50(weights='imagenet', include_top=False)\n",
    "\n",
    "# check based model structure\n",
    "resnet_model.summary()"
   ]
  },
  {
   "cell_type": "markdown",
   "metadata": {},
   "source": [
    "Try freezing weight at each layer at the first place."
   ]
  },
  {
   "cell_type": "code",
   "execution_count": 23,
   "metadata": {},
   "outputs": [],
   "source": [
    "# freeze all layers in basemodel\n",
    "for layer in resnet_model.layers:\n",
    "    layer.trainable = False"
   ]
  },
  {
   "cell_type": "markdown",
   "metadata": {},
   "source": [
    "Config top layers to fit with this study problem"
   ]
  },
  {
   "cell_type": "code",
   "execution_count": 24,
   "metadata": {},
   "outputs": [],
   "source": [
    "# add more layers in basemodel\n",
    "finlayer = resnet_model.output # extract the list of output tensor\n",
    "finlayer = GlobalMaxPooling2D()(finlayer)\n",
    "finlayer = Dense(100, activation='relu')(finlayer)\n",
    "finlayer = Dense(50, activation='relu')(finlayer)\n",
    "finlayer = Dense(len(set(ytrn)), activation='softmax')(finlayer)"
   ]
  },
  {
   "cell_type": "markdown",
   "metadata": {},
   "source": [
    "Construct the final model"
   ]
  },
  {
   "cell_type": "code",
   "execution_count": null,
   "metadata": {},
   "outputs": [],
   "source": [
    "# combine layer from ResNet model and final added layers\n",
    "resnet_ori_model = Model(resnet_model.input, finlayer, name='resnet_ori_model')\n",
    "\n",
    "resnet_ori_model.compile(loss='sparse_categorical_crossentropy',\n",
    "                         optimizer=keras.optimizers.Adadelta(),\n",
    "                         metrics=['acc'])\n",
    "\n",
    "# # check model structure\n",
    "# resnet_ori_model.summary()"
   ]
  },
  {
   "cell_type": "markdown",
   "metadata": {},
   "source": [
    "> There are 23,587,712 parameters to be frozen. The others will be trained using images from training set."
   ]
  },
  {
   "cell_type": "markdown",
   "metadata": {},
   "source": [
    "Set early stopping and model checkpoint criteria"
   ]
  },
  {
   "cell_type": "code",
   "execution_count": 29,
   "metadata": {},
   "outputs": [],
   "source": [
    "# set early stop\n",
    "early_stopping = keras.callbacks.EarlyStopping(patience=10, min_delta = 0.0001,\n",
    "                                               restore_best_weights=True, monitor='val_loss')\n",
    "\n",
    "# set model checkpoint at the best performance\n",
    "checkpoint = keras.callbacks.ModelCheckpoint('./model_log/resnet_ori_log.h5', monitor='val_acc', save_best_only=True)"
   ]
  },
  {
   "cell_type": "markdown",
   "metadata": {},
   "source": [
    "Since this study has imbalanced data set, classe weight is set. Then accuracy can be used as model evaluation."
   ]
  },
  {
   "cell_type": "code",
   "execution_count": null,
   "metadata": {},
   "outputs": [],
   "source": [
    "# make each class equal improtance\n",
    "class_weights=compute_class_weight('balanced', np.unique(ytrn), ytrn)"
   ]
  },
  {
   "cell_type": "markdown",
   "metadata": {},
   "source": [
    "Fit model with images frome training set and test it with test set. During this step, the images will be retrived from the the paths batch-to-batch."
   ]
  },
  {
   "cell_type": "code",
   "execution_count": null,
   "metadata": {},
   "outputs": [],
   "source": [
    "# tes model\n",
    "history = resnet_ori_model.fit_generator(generator=training_batch_generator,\n",
    "                                         steps_per_epoch = int(training_batch_generator.__len__()),\n",
    "                                         epochs = 300, verbose = 1,\n",
    "                                         validation_data = validation_batch_generator, \n",
    "                                         validation_steps = int(validation_batch_generator.__len__()),\n",
    "                                         callbacks=[checkpoint, early_stopping],\n",
    "                                         workers=10, \n",
    "                                         class_weight=class_weights)\n",
    "\n",
    "# save weight from the trained model\n",
    "joblib.dump(history, './model_log/bestmodel/resnet_ori_model.pkl')"
   ]
  },
  {
   "cell_type": "code",
   "execution_count": null,
   "metadata": {},
   "outputs": [],
   "source": [
    "# restore the model\n",
    "resnet_ori_best = joblib.load('./model_log/bestmodel/resnet_ori_model.pkl')"
   ]
  },
  {
   "cell_type": "markdown",
   "metadata": {},
   "source": [
    "Explore the original model performance"
   ]
  },
  {
   "cell_type": "code",
   "execution_count": 23,
   "metadata": {},
   "outputs": [
    {
     "data": {
      "image/png": "[encoded data removed]",
      "text/plain": [
       "<Figure size 504x360 with 1 Axes>"
      ]
     },
     "metadata": {
      "needs_background": "light"
     },
     "output_type": "display_data"
    },
    {
     "data": {
      "image/png": "[encoded data removed]",
      "text/plain": [
       "<Figure size 504x360 with 1 Axes>"
      ]
     },
     "metadata": {
      "needs_background": "light"
     },
     "output_type": "display_data"
    }
   ],
   "source": [
    "pd.DataFrame(resnet_ori_best.history).loc[:,['acc','val_acc']].plot(figsize=(7, 5))\n",
    "plt.title('ResNet Original - Accuracy')\n",
    "plt.ylim(0,1)\n",
    "plt.grid(False)\n",
    "plt.show()\n",
    "\n",
    "pd.DataFrame(resnet_ori_best.history).loc[:,['loss','val_loss']].plot(figsize=(7, 5))\n",
    "plt.title('ResNet Original - Loss')\n",
    "plt.ylim(0,10)\n",
    "plt.grid(False)\n",
    "plt.show()"
   ]
  },
  {
   "cell_type": "code",
   "execution_count": 24,
   "metadata": {},
   "outputs": [
    {
     "name": "stdout",
     "output_type": "stream",
     "text": [
      "best train accuracy: 0.4642\n",
      "best test accuracy: 0.2731\n"
     ]
    }
   ],
   "source": [
    "print('best train accuracy: {:.4f}'.format(resnet_ori_best.history['acc'][np.argmax(resnet_ori_best.history['val_acc'])]))\n",
    "print('best test accuracy: {:.4f}'.format(max(resnet_ori_best.history['val_acc'])))"
   ]
  },
  {
   "cell_type": "markdown",
   "metadata": {},
   "source": [
    "> The result from ResNet50 presents that both train and test performance are less than 50%. In other word, random guess is more likely to correct than this model prediction."
   ]
  },
  {
   "cell_type": "markdown",
   "metadata": {},
   "source": [
    "#### <b>2. VGG16"
   ]
  },
  {
   "cell_type": "markdown",
   "metadata": {},
   "source": [
    "VGG16 is a convolutional neural network model. There are 16 layers included which are 13 convoluation and 3 dense layers."
   ]
  },
  {
   "cell_type": "markdown",
   "metadata": {},
   "source": [
    "<i>VGG16 Structure:<br>\n",
    " ![](./fig/3_VGG16.PNG)<br>\n",
    "Source: https://neurohive.io/en/popular-networks/vgg16/</i>"
   ]
  },
  {
   "cell_type": "markdown",
   "metadata": {},
   "source": [
    "VGGFace is a dataset contains about 2,000 unique identities. There are  more than two million faces included in the dataset."
   ]
  },
  {
   "cell_type": "markdown",
   "metadata": {},
   "source": [
    "<i>Examples from VGGFace:<br>\n",
    " ![](./fig/4_VGGface.PNG)<br>\n",
    "Source: https://www.analyticsvidhya.com/blog/2018/07/top-10-pretrained-models-get-started-deep-learning-part-1-computer-vision/</i>"
   ]
  },
  {
   "cell_type": "markdown",
   "metadata": {},
   "source": [
    "VGG16 structure is loaded together with pre-train-weight from \"VGGFace\", then it is used as a basemodel."
   ]
  },
  {
   "cell_type": "code",
   "execution_count": null,
   "metadata": {},
   "outputs": [],
   "source": [
    "# load model struture with pre-train-weight\n",
    "    # include_top = Fasle --> not include final pooling and dense\n",
    "vgg_model = VGGFace(model='vgg16', include_top=False, weights='vggface', pooling='max')\n",
    "\n",
    "# check based model structure\n",
    "#vgg_model.summary()"
   ]
  },
  {
   "cell_type": "markdown",
   "metadata": {},
   "source": [
    "Try freezing weight at each layer at the first place."
   ]
  },
  {
   "cell_type": "code",
   "execution_count": 36,
   "metadata": {},
   "outputs": [],
   "source": [
    "# freeze all layers in basemodel\n",
    "for layer in vgg_model.layers:\n",
    "    layer.trainable = False"
   ]
  },
  {
   "cell_type": "markdown",
   "metadata": {},
   "source": [
    "Config top layers to fit with this study problem"
   ]
  },
  {
   "cell_type": "code",
   "execution_count": 37,
   "metadata": {},
   "outputs": [],
   "source": [
    "# add more layers in basemodel\n",
    "finlayer2 = vgg_model.output # extract the list of output tensor\n",
    "finlayer2 = Dense(100, activation='relu')(finlayer2)\n",
    "finlayer2 = Dense(50, activation='relu')(finlayer2)\n",
    "finlayer2 = Dense(len(set(ytrn)), activation='softmax')(finlayer2)"
   ]
  },
  {
   "cell_type": "markdown",
   "metadata": {},
   "source": [
    "Construct the final model"
   ]
  },
  {
   "cell_type": "code",
   "execution_count": null,
   "metadata": {},
   "outputs": [],
   "source": [
    "# combine layer from VGG model and final added layers\n",
    "vgg_ori_model = Model(vgg_model.input, finlayer2, name='vgg_ori_model')\n",
    "\n",
    "vgg_ori_model.compile(loss='sparse_categorical_crossentropy',\n",
    "                      optimizer=keras.optimizers.Adadelta(),\n",
    "                      metrics=['acc'])\n",
    "\n",
    "# check model structure\n",
    "vgg_ori_model.summary()"
   ]
  },
  {
   "cell_type": "markdown",
   "metadata": {},
   "source": [
    "> There are 26,092,144 parameters to be freezed. Comparing to ResNet (n param = 23,587,712), VGG16 has more parameters included."
   ]
  },
  {
   "cell_type": "markdown",
   "metadata": {},
   "source": [
    "Early stopping used in this model is the same as ResNet50 experoment. Hence, only model checkpoint criteria is set."
   ]
  },
  {
   "cell_type": "code",
   "execution_count": 39,
   "metadata": {},
   "outputs": [],
   "source": [
    "# save only best model\n",
    "checkpoint = keras.callbacks.ModelCheckpoint('./model_log/vgg_ori_log.h5', monitor='val_acc', save_best_only=True)"
   ]
  },
  {
   "cell_type": "markdown",
   "metadata": {},
   "source": [
    "Fit model with images frome training set and test it with test set. During this step, the images will be retrived from the the paths batch-to-batch."
   ]
  },
  {
   "cell_type": "code",
   "execution_count": null,
   "metadata": {},
   "outputs": [],
   "source": [
    "# test the model\n",
    "history = vgg_ori_model.fit_generator(generator=training_batch_generator,\n",
    "                                      steps_per_epoch = int(training_batch_generator.__len__()),\n",
    "                                      epochs = 300, verbose = 1,\n",
    "                                      validation_data = validation_batch_generator, \n",
    "                                      validation_steps = int(validation_batch_generator.__len__()),\n",
    "                                      callbacks=[checkpoint, early_stopping],\n",
    "                                      workers=10, \n",
    "                                      class_weight=class_weights)\n",
    "\n",
    "# save weight from the trained model\n",
    "joblib.dump(history, './model_log/bestmodel/vgg_ori_model.pkl')"
   ]
  },
  {
   "cell_type": "markdown",
   "metadata": {},
   "source": [
    "In the case that kernel is die during model experiment, the model at the last checkpoing can be used to continue the experiment for saving time."
   ]
  },
  {
   "cell_type": "code",
   "execution_count": null,
   "metadata": {},
   "outputs": [],
   "source": [
    "# continue training model in case that the kernel is interrupted\n",
    "vgg_ori_model.load_weights('./model_log/vgg_ori_log.h5')\n",
    "\n",
    "# test the model\n",
    "history = vgg_ori_model.fit_generator(generator=training_batch_generator,\n",
    "                                      steps_per_epoch = int(training_batch_generator.__len__()),\n",
    "                                      epochs = 300, verbose = 1,\n",
    "                                      validation_data = validation_batch_generator, \n",
    "                                      validation_steps = int(validation_batch_generator.__len__()),\n",
    "                                      callbacks=[checkpoint, early_stopping],\n",
    "                                      workers=10, \n",
    "                                      class_weight=class_weights)\n",
    "\n",
    "# save weight from the trained model\n",
    "joblib.dump(history, './model_log/bestmodel/vgg_ori_model.pkl')"
   ]
  },
  {
   "cell_type": "code",
   "execution_count": 187,
   "metadata": {},
   "outputs": [],
   "source": [
    "# restore the best model\n",
    "vgg_ori_best = joblib.load('./model_log/bestmodel/vgg_ori_model.pkl')"
   ]
  },
  {
   "cell_type": "markdown",
   "metadata": {},
   "source": [
    "Explore the original model performance"
   ]
  },
  {
   "cell_type": "code",
   "execution_count": 188,
   "metadata": {},
   "outputs": [
    {
     "data": {
      "image/png": "[encoded data removed]",
      "text/plain": [
       "<Figure size 504x360 with 1 Axes>"
      ]
     },
     "metadata": {
      "needs_background": "light"
     },
     "output_type": "display_data"
    },
    {
     "data": {
      "image/png": "[encoded data removed]",
      "text/plain": [
       "<Figure size 504x360 with 1 Axes>"
      ]
     },
     "metadata": {
      "needs_background": "light"
     },
     "output_type": "display_data"
    }
   ],
   "source": [
    "pd.DataFrame(vgg_ori_best.history).loc[:,['acc','val_acc']].plot(figsize=(7, 5))\n",
    "plt.ylim(0,1)\n",
    "plt.title('VGG Original - Accuracy')\n",
    "plt.grid(False)\n",
    "plt.show()\n",
    "\n",
    "pd.DataFrame(vgg_ori_best.history).loc[:,['loss','val_acc']].plot(figsize=(7, 5))\n",
    "plt.ylim(0,10)\n",
    "plt.title('VGG Original - Loss')\n",
    "plt.grid(False)\n",
    "plt.show()"
   ]
  },
  {
   "cell_type": "code",
   "execution_count": 190,
   "metadata": {},
   "outputs": [
    {
     "name": "stdout",
     "output_type": "stream",
     "text": [
      "best train accuracy: 0.9524\n",
      "best test accuracy: 0.8686\n"
     ]
    }
   ],
   "source": [
    "print('best train accuracy: {:.4f}'.format(vgg_ori_best.history['acc'][np.argmax(vgg_ori_best.history['val_acc'])]))\n",
    "print('best test accuracy: {:.4f}'.format(max(vgg_ori_best.history['val_acc'])))"
   ]
  },
  {
   "cell_type": "markdown",
   "metadata": {},
   "source": [
    "> The result from VGG16 presents that both train and test performance is a lot better than ResNet50 (train accuracy: 0.4642, test accuracy: 0.2731). Hence, VGG16 will be tested in further step."
   ]
  },
  {
   "cell_type": "markdown",
   "metadata": {},
   "source": [
    "#### <b> 4.2) Config model - release weight in some layers"
   ]
  },
  {
   "cell_type": "markdown",
   "metadata": {},
   "source": [
    "This step will try releasing some weights and train the model to see how the performance will change. Only VGG16 will adopt as the model structure since it is the best model from previous step."
   ]
  },
  {
   "cell_type": "markdown",
   "metadata": {},
   "source": [
    "- <b> 1st Round"
   ]
  },
  {
   "cell_type": "markdown",
   "metadata": {},
   "source": [
    "Firstly, the model index are explored."
   ]
  },
  {
   "cell_type": "code",
   "execution_count": 40,
   "metadata": {},
   "outputs": [
    {
     "name": "stdout",
     "output_type": "stream",
     "text": [
      "0 input_2\n",
      "1 conv1_1\n",
      "2 conv1_2\n",
      "3 pool1\n",
      "4 conv2_1\n",
      "5 conv2_2\n",
      "6 pool2\n",
      "7 conv3_1\n",
      "8 conv3_2\n",
      "9 conv3_3\n",
      "10 pool3\n",
      "11 conv4_1\n",
      "12 conv4_2\n",
      "13 conv4_3\n",
      "14 pool4\n",
      "15 conv5_1\n",
      "16 conv5_2\n",
      "17 conv5_3\n",
      "18 pool5\n",
      "19 global_max_pooling2d_2\n"
     ]
    }
   ],
   "source": [
    "# find each layer index\n",
    "for i, layer in enumerate(vgg_model.layers):\n",
    "    print(i, layer.name)"
   ]
  },
  {
   "cell_type": "markdown",
   "metadata": {},
   "source": [
    "Only the weights from top 2 layers are trained."
   ]
  },
  {
   "cell_type": "code",
   "execution_count": 45,
   "metadata": {},
   "outputs": [],
   "source": [
    "release_index = 18\n",
    "\n",
    "# release trainable weight from some layers\n",
    "    # fix weight\n",
    "for layer in vgg_model.layers[:release_index]:\n",
    "    layer.trainable = False\n",
    "    # trian weight\n",
    "for layer in vgg_model.layers[release_index:]:\n",
    "    layer.trainable = True"
   ]
  },
  {
   "cell_type": "code",
   "execution_count": null,
   "metadata": {},
   "outputs": [],
   "source": [
    "# combine the model\n",
    "vgg_config_model = Model(vgg_model.input, finlayer2, name='vgg_config_model')\n",
    "\n",
    "# save only best model\n",
    "checkpoint = keras.callbacks.ModelCheckpoint('./model_log/vgg_config_log.h5', monitor='val_acc', save_best_only=True)\n",
    "\n",
    "vgg_config_model.compile(loss='sparse_categorical_crossentropy',\n",
    "                         optimizer=keras.optimizers.Adadelta(),\n",
    "                         metrics=['acc'])\n",
    "\n",
    "# check model structure\n",
    "vgg_config_model.summary()"
   ]
  },
  {
   "cell_type": "code",
   "execution_count": null,
   "metadata": {},
   "outputs": [],
   "source": [
    "# test the model\n",
    "history = vgg_config_model.fit_generator(generator=training_batch_generator,\n",
    "                                         steps_per_epoch = int(training_batch_generator.__len__()),\n",
    "                                         epochs = 300, verbose = 1,\n",
    "                                         validation_data = validation_batch_generator, \n",
    "                                         validation_steps = int(validation_batch_generator.__len__()),\n",
    "                                         callbacks=[checkpoint, early_stopping],\n",
    "                                         workers=10, \n",
    "                                         class_weight=class_weights)\n",
    "\n",
    "# save weight from the trained model\n",
    "joblib.dump(history, './model_log/bestmodel/vgg_config_model.pkl')"
   ]
  },
  {
   "cell_type": "code",
   "execution_count": 191,
   "metadata": {},
   "outputs": [],
   "source": [
    "# restore the best model\n",
    "vgg_config_best = joblib.load('./model_log/bestmodel/vgg_config_model.pkl')"
   ]
  },
  {
   "cell_type": "code",
   "execution_count": 58,
   "metadata": {},
   "outputs": [
    {
     "name": "stdout",
     "output_type": "stream",
     "text": [
      "best train accuracy: 0.9692\n",
      "best test accuracy: 0.8701\n"
     ]
    },
    {
     "data": {
      "image/png": "[encoded data removed]",
      "text/plain": [
       "<Figure size 504x360 with 1 Axes>"
      ]
     },
     "metadata": {
      "needs_background": "light"
     },
     "output_type": "display_data"
    },
    {
     "data": {
      "image/png": "[encoded data removed]",
      "text/plain": [
       "<Figure size 504x360 with 1 Axes>"
      ]
     },
     "metadata": {
      "needs_background": "light"
     },
     "output_type": "display_data"
    }
   ],
   "source": [
    "# explore the result\n",
    "pd.DataFrame(vgg_config_best.history).loc[:,['acc','val_acc']].plot(figsize=(7, 5))\n",
    "plt.title('VGG Config - Accuracy')\n",
    "plt.ylim(0,1)\n",
    "plt.grid(False)\n",
    "plt.show()\n",
    "\n",
    "pd.DataFrame(vgg_config_best.history).loc[:,['loss','val_loss']].plot(figsize=(7, 5))\n",
    "plt.title('VGG Config - Loss')\n",
    "plt.ylim(0,10)\n",
    "plt.grid(False)\n",
    "plt.show()"
   ]
  },
  {
   "cell_type": "code",
   "execution_count": 192,
   "metadata": {},
   "outputs": [
    {
     "name": "stdout",
     "output_type": "stream",
     "text": [
      "best train accuracy: 0.9692\n",
      "best test accuracy: 0.8701\n"
     ]
    }
   ],
   "source": [
    "print('best train accuracy: {:.4f}'.format(vgg_config_best.history['acc'][np.argmax(vgg_config_best.history['val_acc'])]))\n",
    "print('best test accuracy: {:.4f}'.format(max(vgg_config_best.history['val_acc'])))"
   ]
  },
  {
   "cell_type": "markdown",
   "metadata": {},
   "source": [
    "> After set weights at the top 2 layers of VGG16, the model accuracy slightly increases both in train and test set (original VGG - train accuracy: 0.9524, test accuracy: 0.8686)."
   ]
  },
  {
   "cell_type": "markdown",
   "metadata": {},
   "source": [
    "- <b> 2nd Round"
   ]
  },
  {
   "cell_type": "markdown",
   "metadata": {},
   "source": [
    "At this time, more weights will be released."
   ]
  },
  {
   "cell_type": "code",
   "execution_count": 59,
   "metadata": {},
   "outputs": [],
   "source": [
    "release_index = 15\n",
    "\n",
    "# release trainable weight from some layers\n",
    "    # fix weight\n",
    "for layer in vgg_model.layers[:release_index]:\n",
    "    layer.trainable = False\n",
    "    # trian weight\n",
    "for layer in vgg_model.layers[release_index:]:\n",
    "    layer.trainable = True"
   ]
  },
  {
   "cell_type": "code",
   "execution_count": null,
   "metadata": {},
   "outputs": [],
   "source": [
    "# combine the model\n",
    "vgg_config2_model = Model(vgg_model.input, finlayer2, name='vgg_config2_model')\n",
    "\n",
    "# save only best model\n",
    "checkpoint = keras.callbacks.ModelCheckpoint('./model_log/vgg_config2_log.h5', monitor='val_acc', save_best_only=True)\n",
    "\n",
    "vgg_config2_model.compile(loss='sparse_categorical_crossentropy',\n",
    "                         optimizer=keras.optimizers.Adadelta(),\n",
    "                         metrics=['acc'])\n",
    "\n",
    "# check model structure\n",
    "vgg_config2_model.summary()"
   ]
  },
  {
   "cell_type": "code",
   "execution_count": null,
   "metadata": {},
   "outputs": [],
   "source": [
    "# test the model\n",
    "history = vgg_config2_model.fit_generator(generator=training_batch_generator,\n",
    "                                          steps_per_epoch = int(training_batch_generator.__len__()),\n",
    "                                          epochs = 300, verbose = 1,\n",
    "                                          validation_data = validation_batch_generator, \n",
    "                                          validation_steps = int(validation_batch_generator.__len__()),\n",
    "                                          callbacks=[checkpoint, early_stopping],\n",
    "                                          workers=10, \n",
    "                                          class_weight=class_weights)\n",
    "\n",
    "# save weight from the trained model\n",
    "joblib.dump(history, './model_log/bestmodel/vgg_config2_model.pkl')"
   ]
  },
  {
   "cell_type": "code",
   "execution_count": 193,
   "metadata": {},
   "outputs": [],
   "source": [
    "# restore the best model\n",
    "vgg_config2_best = joblib.load('./model_log/bestmodel/vgg_config2_model.pkl')"
   ]
  },
  {
   "cell_type": "code",
   "execution_count": 194,
   "metadata": {},
   "outputs": [
    {
     "data": {
      "image/png": "[encoded data removed]",
      "text/plain": [
       "<Figure size 504x360 with 1 Axes>"
      ]
     },
     "metadata": {
      "needs_background": "light"
     },
     "output_type": "display_data"
    },
    {
     "data": {
      "image/png": "[encoded data removed]",
      "text/plain": [
       "<Figure size 504x360 with 1 Axes>"
      ]
     },
     "metadata": {
      "needs_background": "light"
     },
     "output_type": "display_data"
    }
   ],
   "source": [
    "# explore the result\n",
    "pd.DataFrame(vgg_config2_best.history).loc[:,['acc','val_acc']].plot(figsize=(7, 5))\n",
    "plt.title('VGG Config2 - Accuracy')\n",
    "plt.ylim(0,1)\n",
    "plt.grid(False)\n",
    "plt.show()\n",
    "\n",
    "pd.DataFrame(vgg_config2_best.history).loc[:,['loss','val_loss']].plot(figsize=(7, 5))\n",
    "plt.title('VGG Config2 - Loss')\n",
    "plt.grid(False)\n",
    "plt.show()"
   ]
  },
  {
   "cell_type": "code",
   "execution_count": 195,
   "metadata": {},
   "outputs": [
    {
     "name": "stdout",
     "output_type": "stream",
     "text": [
      "best train accuracy: 0.2496\n",
      "best test accuracy: 0.2498\n"
     ]
    }
   ],
   "source": [
    "print('best train accuracy: {:.4f}'.format(vgg_config2_best.history['acc'][np.argmax(vgg_config2_best.history['val_acc'])]))\n",
    "print('best test accuracy: {:.4f}'.format(max(vgg_config2_best.history['val_acc'])))"
   ]
  },
  {
   "cell_type": "markdown",
   "metadata": {},
   "source": [
    "The model after releasing more weights drops performance more than 50%. Accordingly, the model configuration stops at this step because performance does not increase by the trainable weight."
   ]
  },
  {
   "cell_type": "markdown",
   "metadata": {},
   "source": [
    "### <B> 5. Evaluate the model performance"
   ]
  },
  {
   "cell_type": "markdown",
   "metadata": {},
   "source": [
    "The best model according above experiment is VGG16 with trainable weight at top2 layers. This step will evaluate the model performance tincluding;\n",
    "- Accuracy\n",
    "- Confusion matrix\n",
    "- ROC\n",
    "- PR cruve\n",
    "- Weighted accuracy and F1"
   ]
  },
  {
   "cell_type": "code",
   "execution_count": 53,
   "metadata": {},
   "outputs": [],
   "source": [
    "# restore best of the best model\n",
    "best_model = joblib.load('./model_log/bestmodel/vgg_config_model.pkl')"
   ]
  },
  {
   "cell_type": "markdown",
   "metadata": {},
   "source": [
    "- <b> Accuracy"
   ]
  },
  {
   "cell_type": "code",
   "execution_count": 54,
   "metadata": {},
   "outputs": [
    {
     "data": {
      "image/png": "[encoded data removed]",
      "text/plain": [
       "<Figure size 504x360 with 1 Axes>"
      ]
     },
     "metadata": {
      "needs_background": "light"
     },
     "output_type": "display_data"
    }
   ],
   "source": [
    "# explore the result\n",
    "pd.DataFrame(best_model.history).loc[:,['acc','val_acc']].plot(figsize=(7, 5))\n",
    "plt.title('VGG Config2 - Accuracy')\n",
    "plt.ylim(0,1)\n",
    "plt.grid(False)\n",
    "plt.show()"
   ]
  },
  {
   "cell_type": "markdown",
   "metadata": {},
   "source": [
    "Find accuracy and loss of validation set"
   ]
  },
  {
   "cell_type": "code",
   "execution_count": 55,
   "metadata": {},
   "outputs": [
    {
     "name": "stdout",
     "output_type": "stream",
     "text": [
      "['loss', 'acc']\n",
      "44/44 [==============================] - 15s 339ms/step\n"
     ]
    }
   ],
   "source": [
    "print(best_model.model.metrics_names)\n",
    "loss, acc = best_model.model.evaluate_generator(generator=validation_batch_generator, steps=int(validation_batch_generator.__len__()), workers=10, verbose=1)"
   ]
  },
  {
   "cell_type": "code",
   "execution_count": 56,
   "metadata": {},
   "outputs": [
    {
     "name": "stdout",
     "output_type": "stream",
     "text": [
      "train accuracy: 0.9692\n",
      "test accuracy: 0.8701\n",
      "validation accuracy: 0.8615\n",
      "\n"
     ]
    }
   ],
   "source": [
    "i = np.argmax(best_model.history['val_acc'])\n",
    "print('train accuracy: {:.4f}'.format(best_model.history['acc'][i]))\n",
    "print('test accuracy: {:.4f}'.format(max(best_model.history['val_acc'])))\n",
    "print('validation accuracy: {:.4f}\\n'.format(acc))"
   ]
  },
  {
   "cell_type": "markdown",
   "metadata": {},
   "source": [
    "> This result shows that the model performance just slightly drops from the test set."
   ]
  },
  {
   "cell_type": "markdown",
   "metadata": {},
   "source": [
    "Predict target class and each class probability of validation set"
   ]
  },
  {
   "cell_type": "code",
   "execution_count": 57,
   "metadata": {},
   "outputs": [
    {
     "name": "stdout",
     "output_type": "stream",
     "text": [
      "44/44 [==============================] - 18s 403ms/step\n"
     ]
    }
   ],
   "source": [
    "yprob = best_model.model.predict_generator(generator=validation_batch_generator, steps=int(validation_batch_generator.__len__()), workers=10, verbose=1)\n",
    "ypred = np.argmax(yprob,axis=1)"
   ]
  },
  {
   "cell_type": "markdown",
   "metadata": {},
   "source": [
    "- <b> Confusion Matrix"
   ]
  },
  {
   "cell_type": "markdown",
   "metadata": {},
   "source": [
    "This study has imbalanced class data. Therefore, confusion matrix with normalization is used."
   ]
  },
  {
   "cell_type": "code",
   "execution_count": 96,
   "metadata": {},
   "outputs": [
    {
     "data": {
      "image/png": "[encoded data removed]",
      "text/plain": [
       "<Figure size 576x432 with 2 Axes>"
      ]
     },
     "metadata": {
      "needs_background": "light"
     },
     "output_type": "display_data"
    }
   ],
   "source": [
    "model_eval.cm_plot(yval, yprob, normalize=True, label=dict_agegr2_label)"
   ]
  },
  {
   "cell_type": "code",
   "execution_count": 221,
   "metadata": {},
   "outputs": [
    {
     "name": "stdout",
     "output_type": "stream",
     "text": [
      "00-06: 4649\n",
      "07-23: 4180\n",
      "24-32: 5095\n",
      "33-54: 3719\n",
      "56-100: 979\n"
     ]
    }
   ],
   "source": [
    "# Train test and validation are splitted with straification.\n",
    "# Therefore, the number of total instances can be used as the reference of differences among groups in all data sets.\n",
    "print('00-06: {}'.format(len(fold_complete.loc[fold_complete.age_gr==0])))\n",
    "print('07-23: {}'.format(len(fold_complete.loc[fold_complete.age_gr==1,])))\n",
    "print('24-32: {}'.format(len(fold_complete.loc[fold_complete.age_gr==2,])))\n",
    "print('33-54: {}'.format(len(fold_complete.loc[fold_complete.age_gr==3,])))\n",
    "print('56-100: {}'.format(len(fold_complete.loc[fold_complete.age_gr==4,])))"
   ]
  },
  {
   "cell_type": "markdown",
   "metadata": {},
   "source": [
    "> The best class prediction is on the age of 0-6 years old, and the worst prediction is on 55-100 years old. The reasons are about the number of instances and face structure. The face of human during 0-6 years old can easily distinguish from other groups. Therefore, the model can classify this age group the best. In term of the worst class, the number of instance uses to train the model is significantly different from the others. Therefore, the model does not have enough data to learn this pattern."
   ]
  },
  {
   "cell_type": "markdown",
   "metadata": {},
   "source": [
    "- <b> ROC"
   ]
  },
  {
   "cell_type": "markdown",
   "metadata": {},
   "source": [
    "In term of ROC, micro average is used since it takes the number of instances in each class into account."
   ]
  },
  {
   "cell_type": "code",
   "execution_count": 60,
   "metadata": {},
   "outputs": [
    {
     "data": {
      "image/png": "[encoded data removed]",
      "text/plain": [
       "<Figure size 576x432 with 1 Axes>"
      ]
     },
     "metadata": {
      "needs_background": "light"
     },
     "output_type": "display_data"
    }
   ],
   "source": [
    "model_eval.roc_pr.rocplt_avg(yval, ypred, yprob)"
   ]
  },
  {
   "cell_type": "markdown",
   "metadata": {},
   "source": [
    "> The AUC is pretty high at 96.84%."
   ]
  },
  {
   "cell_type": "code",
   "execution_count": 61,
   "metadata": {},
   "outputs": [
    {
     "data": {
      "image/png": "[encoded data removed]",
      "text/plain": [
       "<Figure size 576x432 with 1 Axes>"
      ]
     },
     "metadata": {
      "needs_background": "light"
     },
     "output_type": "display_data"
    }
   ],
   "source": [
    "model_eval.roc_pr.rocplt_byclass(yval, ypred, yprob)"
   ]
  },
  {
   "cell_type": "markdown",
   "metadata": {},
   "source": [
    "> The model has a strong prediction in class 0 (0-6 years old) when considering AUC for each class. This result correlates with the model performance in normalized confusion matrix. However, AUC of the age between 55-100 years old is at the 2nd rank and this result conflicts with normalized confustion matrix.<br>\n",
    "\n",
    ">A possible reason of this conflict result is that ROC does not take the number of instances into account. Consequently, the matrix is not proper with imbalance target classes as this study. The more appropriate evaluation matrix PR curve."
   ]
  },
  {
   "cell_type": "markdown",
   "metadata": {},
   "source": [
    "- <b> PR Curve"
   ]
  },
  {
   "cell_type": "code",
   "execution_count": 62,
   "metadata": {},
   "outputs": [
    {
     "data": {
      "image/png": "[encoded data removed]",
      "text/plain": [
       "<Figure size 576x432 with 1 Axes>"
      ]
     },
     "metadata": {
      "needs_background": "light"
     },
     "output_type": "display_data"
    }
   ],
   "source": [
    "model_eval.roc_pr.prplt_avg(yval, ypred, yprob)"
   ]
  },
  {
   "cell_type": "markdown",
   "metadata": {},
   "source": [
    "> The micro-average precision is just below 95%."
   ]
  },
  {
   "cell_type": "code",
   "execution_count": 63,
   "metadata": {},
   "outputs": [
    {
     "data": {
      "text/plain": [
       "<Figure size 432x288 with 0 Axes>"
      ]
     },
     "metadata": {},
     "output_type": "display_data"
    },
    {
     "data": {
      "image/png": "[encoded data removed]",
      "text/plain": [
       "<Figure size 576x432 with 1 Axes>"
      ]
     },
     "metadata": {
      "needs_background": "light"
     },
     "output_type": "display_data"
    }
   ],
   "source": [
    "model_eval.roc_pr.prplt_byclass(yval, ypred, yprob)"
   ]
  },
  {
   "cell_type": "markdown",
   "metadata": {},
   "source": [
    "> At this case, each class performace is in the same way as normalized confusion matrix. The best performance belongs to the class of 0-6 years old and the worst class is 55-100 yaers old."
   ]
  },
  {
   "cell_type": "markdown",
   "metadata": {},
   "source": [
    "- <b> Accuracy and F1"
   ]
  },
  {
   "cell_type": "markdown",
   "metadata": {},
   "source": [
    "Finally to make sure that the model perforce is work for all classes, weighted accuracy and F1 are applied."
   ]
  },
  {
   "cell_type": "code",
   "execution_count": 230,
   "metadata": {},
   "outputs": [
    {
     "name": "stdout",
     "output_type": "stream",
     "text": [
      "Weighted Accuracy: 0.8614\n",
      "Weighted F1 Score: 0.8370\n"
     ]
    }
   ],
   "source": [
    "print('Weighted Accuracy: {:.4f}'.format(f1_score(yval, ypred, average='weighted')))\n",
    "print('Weighted F1 Score: {:.4f}'.format(balanced_accuracy_score(yval, ypred)))"
   ]
  },
  {
   "cell_type": "markdown",
   "metadata": {},
   "source": [
    "> Both weighted accuracy and F1 score are above 80%. As conclusion, this model performace is good [1]."
   ]
  },
  {
   "cell_type": "markdown",
   "metadata": {},
   "source": [
    "### <b>6. Conclude and discuss the result"
   ]
  },
  {
   "cell_type": "markdown",
   "metadata": {},
   "source": [
    "The best model performace is on VGG16 whcih adopts pre-train-weight from VGGFace. All model evalution matrixes reveal the same conclusion. However, the model is better when the weights at the top 2 layers are realesed. When realeasing more weight, the model performance declines dramatically. A possible reason is that the number of training instances is not enough to improve the model.<br>\n",
    "\n",
    "This conclusion that VGG16 is better than ResNet50 makes sense as it is a lot shallow than ResNet50. Although ResNet50 uses residual block, there is no garuntee how many blocks are skipped. Additionally, VGG16 adopts weight from VGGFace which the problem is closer to this study problem, realted to human face, than ImageNet in ResNet50.<br>\n",
    "\n",
    "Considering each prediction class, the model predicts 0-6 years old at the most accurate. Human face around the ages is also easily to differentiate from other age groups evthough it is the human task. Bad prediction is on 55-100 years old and this result cases by the lowest number of instances."
   ]
  },
  {
   "cell_type": "markdown",
   "metadata": {},
   "source": [
    "The <b>suggestion</b> for future analysis is to compare different model structure with different pre-train-weight and vice versa. Changing learning rate to see better accuarcy and loss across epcoh is also suggested. This experiment adopts default library learning rate and it is quite too much for using with pre-train-weight. Besides, it hardly see the differences in accuracy and loss across epcoh. Finally, changing input size to see how it affects the model performance is the possible experiment."
   ]
  },
  {
   "cell_type": "markdown",
   "metadata": {},
   "source": [
    "<b>Reference:</b><br>\n",
    "[1] https://www.analyticsvidhya.com/blog/2019/08/11-important-model-evaluation-error-metrics/"
   ]
  }
 ],
 "metadata": {
  "kernelspec": {
   "display_name": "Python 3",
   "language": "python",
   "name": "python3"
  },
  "language_info": {
   "codemirror_mode": {
    "name": "ipython",
    "version": 3
   },
   "file_extension": ".py",
   "mimetype": "text/x-python",
   "name": "python",
   "nbconvert_exporter": "python",
   "pygments_lexer": "ipython3",
   "version": "3.5.3"
  }
 },
 "nbformat": 4,
 "nbformat_minor": 4
}
